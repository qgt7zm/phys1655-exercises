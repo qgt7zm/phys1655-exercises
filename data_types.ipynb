{
 "cells": [
  {
   "cell_type": "markdown",
   "metadata": {},
   "source": [
    "# Data Types in Python"
   ]
  },
  {
   "cell_type": "markdown",
   "metadata": {},
   "source": [
    "## Numbers"
   ]
  },
  {
   "cell_type": "code",
   "execution_count": 1,
   "metadata": {},
   "outputs": [
    {
     "name": "stdout",
     "output_type": "stream",
     "text": [
      "1655 is a <class 'int'>\n",
      "16.55 is a <class 'float'>\n",
      "(16+55j) is a <class 'complex'>\n"
     ]
    }
   ],
   "source": [
    "my_int = 1655\n",
    "my_flt = 16.55\n",
    "my_cmp = 16 + 55j\n",
    "print(f\"{my_int} is a {type(my_int)}\")\n",
    "print(f\"{my_flt} is a {type(my_flt)}\")\n",
    "print(f\"{my_cmp} is a {type(my_cmp)}\")"
   ]
  },
  {
   "cell_type": "markdown",
   "metadata": {},
   "source": [
    "Number Bases"
   ]
  },
  {
   "cell_type": "code",
   "execution_count": 3,
   "metadata": {},
   "outputs": [
    {
     "name": "stdout",
     "output_type": "stream",
     "text": [
      "101\n",
      "5717\n",
      "941\n"
     ]
    }
   ],
   "source": [
    "print(0b01100101)\n",
    "print(0x1655)\n",
    "print(0o1655)"
   ]
  },
  {
   "cell_type": "markdown",
   "metadata": {},
   "source": [
    "Type Conversion"
   ]
  },
  {
   "cell_type": "code",
   "execution_count": 6,
   "metadata": {},
   "outputs": [
    {
     "name": "stdout",
     "output_type": "stream",
     "text": [
      "16.55\n",
      "10.0\n",
      "5\n",
      "5\n",
      "2.0\n",
      "22.0\n",
      "(1+0j)\n"
     ]
    }
   ],
   "source": [
    "print(16 + 0.55)\n",
    "print(2 * 5.0)\n",
    "\n",
    "print(int(5.9))\n",
    "print(int(5.1))\n",
    "print(float(2))\n",
    "print(float('22'))\n",
    "print(complex('1'))"
   ]
  },
  {
   "cell_type": "markdown",
   "metadata": {},
   "source": [
    "Random Numbers"
   ]
  },
  {
   "cell_type": "code",
   "execution_count": 7,
   "metadata": {},
   "outputs": [
    {
     "name": "stdout",
     "output_type": "stream",
     "text": [
      "two\n",
      "three\n",
      "['four', 'one', 'three', 'five', 'two']\n"
     ]
    }
   ],
   "source": [
    "import random\n",
    "\n",
    "nums = ['one', 'two', 'three', 'four', 'five']\n",
    "\n",
    "print(nums[random.randrange(5)])\n",
    "print(random.choice(nums))\n",
    "random.shuffle(nums)\n",
    "print(nums)"
   ]
  },
  {
   "cell_type": "markdown",
   "metadata": {},
   "source": [
    "## Lists"
   ]
  },
  {
   "cell_type": "code",
   "execution_count": 15,
   "metadata": {},
   "outputs": [
    {
     "name": "stdout",
     "output_type": "stream",
     "text": [
      "dirt\n",
      "pickaxe\n",
      "['wood', 'stone']\n",
      "['dirt', 'wood', 'stone', 'crafting table', 'pickaxe', 'iron', 'furnace']\n"
     ]
    }
   ],
   "source": [
    "inventory = ['dirt', 'wood', 'stone', 'sticks', 'pickaxe']\n",
    "print(inventory[0])\n",
    "print(inventory[-1])  # last item\n",
    "print(inventory[1:3])  # slice, items 2-3\n",
    "\n",
    "# Modifying Lists\n",
    "inventory.append('iron')\n",
    "inventory.insert(3, 'crafting table')\n",
    "inventory.extend(['coal', 'furnace'])\n",
    "inventory.pop(4)\n",
    "inventory.remove('coal')\n",
    "print(inventory)"
   ]
  },
  {
   "cell_type": "code",
   "execution_count": 17,
   "metadata": {},
   "outputs": [
    {
     "name": "stdout",
     "output_type": "stream",
     "text": [
      ">>dirt\n",
      ">>wood\n",
      ">>stone\n",
      ">>crafting table\n",
      ">>pickaxe\n",
      ">>iron\n",
      ">>furnace\n"
     ]
    }
   ],
   "source": [
    "for item in inventory:\n",
    "    print(f\">>{item}\")"
   ]
  },
  {
   "cell_type": "code",
   "execution_count": 18,
   "metadata": {},
   "outputs": [
    {
     "name": "stdout",
     "output_type": "stream",
     "text": [
      "7\n",
      "False\n"
     ]
    }
   ],
   "source": [
    "print(len(inventory))\n",
    "print('diamonds' in inventory)"
   ]
  },
  {
   "cell_type": "markdown",
   "metadata": {},
   "source": [
    "List Comprehension"
   ]
  },
  {
   "cell_type": "code",
   "execution_count": 19,
   "metadata": {},
   "outputs": [
    {
     "name": "stdout",
     "output_type": "stream",
     "text": [
      "[0, 1, 4, 9, 16, 25, 36, 49, 64, 81]\n"
     ]
    }
   ],
   "source": [
    "squares = [x*x for x in range(10)]\n",
    "print(squares)"
   ]
  },
  {
   "cell_type": "markdown",
   "metadata": {},
   "source": [
    "Counting and Searching"
   ]
  },
  {
   "cell_type": "code",
   "execution_count": 22,
   "metadata": {},
   "outputs": [
    {
     "name": "stdout",
     "output_type": "stream",
     "text": [
      "2\n",
      "5\n"
     ]
    }
   ],
   "source": [
    "scores = [100, 100, 88, 89, 74, 82, 93, 92, 92, 90]\n",
    "print(scores.count(100))\n",
    "print(scores.index(82))"
   ]
  },
  {
   "cell_type": "markdown",
   "metadata": {},
   "source": [
    "## Tuples"
   ]
  },
  {
   "cell_type": "code",
   "execution_count": 21,
   "metadata": {},
   "outputs": [
    {
     "name": "stdout",
     "output_type": "stream",
     "text": [
      "<class 'tuple'>\n",
      "<class 'tuple'>\n",
      "('Eric Weng', 'qgt7zm', 2)\n",
      "Eric Weng (qgt7zm, Year 2)\n"
     ]
    }
   ],
   "source": [
    "empty = ()\n",
    "print(type(empty))\n",
    "\n",
    "single = \"Hello there\", \n",
    "print(type(single))\n",
    "\n",
    "student_info = 'Eric Weng', 'qgt7zm', 2\n",
    "print(student_info)\n",
    "\n",
    "print(f\"{student_info[0]} ({student_info[1]}, Year {student_info[2]})\")"
   ]
  },
  {
   "cell_type": "markdown",
   "metadata": {},
   "source": [
    "## Strings"
   ]
  },
  {
   "cell_type": "code",
   "execution_count": 23,
   "metadata": {},
   "outputs": [
    {
     "name": "stdout",
     "output_type": "stream",
     "text": [
      "a\n",
      "Senate\n"
     ]
    }
   ],
   "source": [
    "quote = 'I am the Senate'\n",
    "print(quote[2])\n",
    "print(quote[-6:])\n",
    "# quote[0] = 'i'  # this can't happen"
   ]
  },
  {
   "cell_type": "code",
   "execution_count": 24,
   "metadata": {},
   "outputs": [
    {
     "name": "stdout",
     "output_type": "stream",
     "text": [
      "\n",
      "Commander Cody, the time has come.\n",
      "Execute order 66.\n",
      "It will be done, my lord.\n",
      "\n"
     ]
    }
   ],
   "source": [
    "long_quote = \"\"\"\n",
    "Commander Cody, the time has come.\n",
    "Execute order 66.\n",
    "It will be done, my lord.\n",
    "\"\"\"\n",
    "print(long_quote)"
   ]
  },
  {
   "cell_type": "markdown",
   "metadata": {},
   "source": [
    "String Comparison"
   ]
  },
  {
   "cell_type": "code",
   "execution_count": 25,
   "metadata": {},
   "outputs": [
    {
     "name": "stdout",
     "output_type": "stream",
     "text": [
      "True\n",
      "False\n"
     ]
    }
   ],
   "source": [
    "quote_copy = \"I am the Senate\"\n",
    "quote_copy2 = \"i AM the senate\"\n",
    "print(quote == quote_copy)\n",
    "print(quote == quote_copy2)"
   ]
  },
  {
   "cell_type": "code",
   "execution_count": 26,
   "metadata": {},
   "outputs": [
    {
     "name": "stdout",
     "output_type": "stream",
     "text": [
      "False\n",
      "True\n"
     ]
    }
   ],
   "source": [
    "print('senate' in quote)\n",
    "print('Senate' in quote)"
   ]
  },
  {
   "cell_type": "code",
   "execution_count": 28,
   "metadata": {},
   "outputs": [
    {
     "name": "stdout",
     "output_type": "stream",
     "text": [
      "\"I am the Senate\", Palpatine said calmly.\n"
     ]
    }
   ],
   "source": [
    "print(\"\\\"I am the Senate\\\", Palpatine said calmly.\")"
   ]
  },
  {
   "cell_type": "markdown",
   "metadata": {},
   "source": [
    "## Sets"
   ]
  },
  {
   "cell_type": "code",
   "execution_count": 34,
   "metadata": {},
   "outputs": [
    {
     "name": "stdout",
     "output_type": "stream",
     "text": [
      "{'CT-7567', 'CC-2224', 'CC-5555', 'CC-1409'}\n",
      "{'CC-5555', 'CC-1409', 'CC-3636', 'CC-782', 'CC-5576', 'CT-7567', 'CC-2224'}\n",
      "{'CC-5555', 'CC-1409', 'CC-3636', 'CC-782', 'CC-5576', 'CT-9904', 'CT-7567', 'CC-2224', 'Wrecker', 'Tech', 'Hunter'}\n",
      "{'CC-5555', 'CC-1409', 'CC-3636', 'CC-782', 'CC-5576', 'CT-7567', 'CC-2224', 'Wrecker', 'Tech', 'Hunter'}\n"
     ]
    }
   ],
   "source": [
    "troopers = {'CT-7567', 'CC-2224', 'CC-5555', 'CC-1409', 'CC-1409'}\n",
    "print(troopers)  # no duplicates\n",
    "\n",
    "troopers.add('CC-782')\n",
    "troopers.add('CC-5576')\n",
    "troopers.add('CC-3636')\n",
    "print(troopers)\n",
    "\n",
    "bad_batch = ['Hunter', 'CT-9904', 'Tech', 'Wrecker']\n",
    "troopers.update(bad_batch)\n",
    "print(troopers)\n",
    "\n",
    "troopers.discard('CT-9904')\n",
    "print(troopers)"
   ]
  },
  {
   "cell_type": "code",
   "execution_count": 30,
   "metadata": {},
   "outputs": [
    {
     "name": "stdout",
     "output_type": "stream",
     "text": [
      "<class 'dict'>\n",
      "<class 'set'>\n"
     ]
    }
   ],
   "source": [
    "empty_dict = {}\n",
    "print(type(empty_dict))\n",
    "\n",
    "empty_set = set()\n",
    "print(type(empty_set))"
   ]
  },
  {
   "cell_type": "code",
   "execution_count": 2,
   "metadata": {},
   "outputs": [
    {
     "name": "stdout",
     "output_type": "stream",
     "text": [
      "Union = {'red', 'blue', 'yellow', 'green'}\n",
      "Intersection = {'blue', 'red'}\n",
      "Difference = {'green'}\n",
      "Sym. Difference = {'yellow', 'green'}\n"
     ]
    }
   ],
   "source": [
    "rgb = {'red', 'green', 'blue'}\n",
    "ryb = {'red', 'yellow', 'blue'}\n",
    "\n",
    "print(f\"Union = {rgb | ryb}\")\n",
    "print(f\"Intersection = {rgb & ryb}\")\n",
    "print(f\"Difference = {rgb - ryb}\")\n",
    "print(f\"Sym. Difference = {rgb ^ ryb}\")"
   ]
  },
  {
   "cell_type": "markdown",
   "metadata": {},
   "source": [
    "## Dictionaries"
   ]
  },
  {
   "cell_type": "code",
   "execution_count": 5,
   "metadata": {},
   "outputs": [
    {
     "name": "stdout",
     "output_type": "stream",
     "text": [
      "{'NJ': 'Trenton', 'NY': 'Albany', 'VA': 'Richmond', 'MA': 'Boston', 'CA': 'Sacramento'}\n",
      "Trenton\n",
      "Harrisburg\n"
     ]
    },
    {
     "data": {
      "text/plain": [
       "'Sacramento'"
      ]
     },
     "execution_count": 5,
     "metadata": {},
     "output_type": "execute_result"
    }
   ],
   "source": [
    "state_caps = {\"NJ\": \"Trenton\", \"NY\": \"Albany\", \"VA\": \"Richmond\", \"MA\": \"Boston\", \"CA\": \"Sacramento\"}\n",
    "print(state_caps)\n",
    "print(state_caps[\"NJ\"])\n",
    "\n",
    "state_caps[\"PN\"] = \"Harrisburg\"\n",
    "print(state_caps[\"PN\"])\n",
    "state_caps.pop(\"CA\")"
   ]
  },
  {
   "cell_type": "code",
   "execution_count": null,
   "metadata": {},
   "outputs": [],
   "source": []
  }
 ],
 "metadata": {
  "kernelspec": {
   "display_name": "Python 3",
   "language": "python",
   "name": "python3"
  },
  "language_info": {
   "codemirror_mode": {
    "name": "ipython",
    "version": 3
   },
   "file_extension": ".py",
   "mimetype": "text/x-python",
   "name": "python",
   "nbconvert_exporter": "python",
   "pygments_lexer": "ipython3",
   "version": "3.8.8"
  }
 },
 "nbformat": 4,
 "nbformat_minor": 4
}
