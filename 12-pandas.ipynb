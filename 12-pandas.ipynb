{
 "cells": [
  {
   "cell_type": "markdown",
   "metadata": {},
   "source": [
    "# The Pandas Library"
   ]
  },
  {
   "cell_type": "markdown",
   "metadata": {},
   "source": [
    "![cute panda](./panda.jpg)"
   ]
  },
  {
   "cell_type": "markdown",
   "metadata": {},
   "source": [
    "The Pandas library builds off from NumPy's arrays.\n",
    "Pandas allows to store multi-dimensional arrays with heterogeneous or missing data types in `DataFrames`."
   ]
  },
  {
   "cell_type": "code",
   "execution_count": 1,
   "metadata": {},
   "outputs": [],
   "source": [
    "import numpy as np\n",
    "import pandas as pd"
   ]
  },
  {
   "cell_type": "markdown",
   "metadata": {},
   "source": [
    "## Pandas Datastructures"
   ]
  },
  {
   "cell_type": "markdown",
   "metadata": {},
   "source": [
    "### Series\n",
    "A series is a 1D python array"
   ]
  },
  {
   "cell_type": "code",
   "execution_count": 2,
   "metadata": {},
   "outputs": [
    {
     "name": "stdout",
     "output_type": "stream",
     "text": [
      "0    4.0\n",
      "1    3.7\n",
      "2    4.0\n",
      "3    4.0\n",
      "4    3.3\n",
      "5    3.7\n",
      "dtype: float64\n"
     ]
    }
   ],
   "source": [
    "# Creating a series\n",
    "\n",
    "grades = pd.Series([4.0, 3.7, 4.0, 4.0, 3.3, 3.7])\n",
    "print(grades)"
   ]
  },
  {
   "cell_type": "code",
   "execution_count": 3,
   "metadata": {},
   "outputs": [
    {
     "name": "stdout",
     "output_type": "stream",
     "text": [
      "[4.  3.7 4.  4.  3.3 3.7]\n",
      "RangeIndex(start=0, stop=6, step=1)\n"
     ]
    }
   ],
   "source": [
    "# Series attributes\n",
    "\n",
    "print(grades.values)  # returns list\n",
    "print(grades.index)"
   ]
  },
  {
   "cell_type": "code",
   "execution_count": 4,
   "metadata": {},
   "outputs": [
    {
     "name": "stdout",
     "output_type": "stream",
     "text": [
      "4.0\n",
      "1    3.7\n",
      "2    4.0\n",
      "dtype: float64\n"
     ]
    }
   ],
   "source": [
    "# Indexing Series\n",
    "\n",
    "print(grades[0])\n",
    "print(grades[1:3])  # returns series"
   ]
  },
  {
   "cell_type": "code",
   "execution_count": 5,
   "metadata": {},
   "outputs": [
    {
     "name": "stdout",
     "output_type": "stream",
     "text": [
      "[4.  3.7 4.  4.  3.3 3.7]\n",
      "Index(['calc', 'phys', 'chem', 'stats', 'CSO', 'DSA'], dtype='object')\n",
      "4.0\n",
      "phys     3.7\n",
      "chem     4.0\n",
      "stats    4.0\n",
      "CSO      3.3\n",
      "dtype: float64\n"
     ]
    }
   ],
   "source": [
    "# Explicit Indices\n",
    "\n",
    "grades = pd.Series([4.0, 3.7, 4.0, 4.0, 3.3, 3.7],\n",
    "                  index=['calc', 'phys', 'chem', 'stats', 'CSO', 'DSA'])\n",
    "\n",
    "print(grades.values)  # still the same\n",
    "print(grades.index)\n",
    "print(grades['calc'])\n",
    "print(grades['phys':'CSO'])  # can still be sliced!"
   ]
  },
  {
   "cell_type": "markdown",
   "metadata": {},
   "source": [
    "A series can actually be used as a dictionary!"
   ]
  },
  {
   "cell_type": "markdown",
   "metadata": {},
   "source": [
    "### DataFrame\n",
    "A data frame is a 2D NumPy array that stores a table of data"
   ]
  },
  {
   "cell_type": "code",
   "execution_count": 6,
   "metadata": {},
   "outputs": [],
   "source": [
    "# Creating a DataFrame\n",
    "\n",
    "classes = ['calc', 'phys', 'chem', 'stats', 'CSO', 'DSA']\n",
    "grades = [4.0, 3.7, 4.0, 4.0, 3.3, 3.7]\n",
    "codes = [\"MATH 201\", \"PHYS 121\", \"CHEM 101\", \"MATH 141\", \"CS 301\", \"CS 302\"]\n",
    "\n",
    "courses = pd.DataFrame(index=classes, data={'grades': grades, 'codes': codes})"
   ]
  },
  {
   "cell_type": "code",
   "execution_count": 7,
   "metadata": {},
   "outputs": [],
   "source": [
    "# Creating a DataFrame from Series\n",
    "grades = pd.Series([4.0, 3.7, 4.0, 4.0, 3.3, 3.7],\n",
    "                   index = ['calc', 'phys', 'chem', 'stats', 'CSO', 'DSA'])\n",
    "codes = pd.Series([\"MATH 201\", \"PHYS 121\", \"CHEM 101\", \"MATH 141\", \"CS 301\", \"CS 302\"],\n",
    "                   index = ['calc', 'phys', 'chem', 'stats', 'CSO', 'DSA'])\n",
    "\n",
    "classes = pd.DataFrame({'grades': grades, 'codes': codes})"
   ]
  },
  {
   "cell_type": "code",
   "execution_count": 8,
   "metadata": {},
   "outputs": [
    {
     "name": "stdout",
     "output_type": "stream",
     "text": [
      "       grades     codes\n",
      "calc      4.0  MATH 201\n",
      "phys      3.7  PHYS 121\n",
      "chem      4.0  CHEM 101\n",
      "stats     4.0  MATH 141\n",
      "CSO       3.3    CS 301\n",
      "DSA       3.7    CS 302\n",
      "[[4.0 'MATH 201']\n",
      " [3.7 'PHYS 121']\n",
      " [4.0 'CHEM 101']\n",
      " [4.0 'MATH 141']\n",
      " [3.3 'CS 301']\n",
      " [3.7 'CS 302']]\n",
      "Index(['calc', 'phys', 'chem', 'stats', 'CSO', 'DSA'], dtype='object')\n",
      "Index(['grades', 'codes'], dtype='object')\n"
     ]
    }
   ],
   "source": [
    "print(classes)\n",
    "print(classes.values)\n",
    "print(classes.index)\n",
    "print(classes.columns)"
   ]
  },
  {
   "cell_type": "code",
   "execution_count": 9,
   "metadata": {},
   "outputs": [
    {
     "name": "stdout",
     "output_type": "stream",
     "text": [
      "calc     4.0\n",
      "phys     3.7\n",
      "chem     4.0\n",
      "stats    4.0\n",
      "CSO      3.3\n",
      "DSA      3.7\n",
      "Name: grades, dtype: float64\n"
     ]
    }
   ],
   "source": [
    "# Indexing a DataFrame\n",
    "print(classes['grades'])"
   ]
  },
  {
   "cell_type": "markdown",
   "metadata": {},
   "source": [
    "### Index\n",
    "An Index is an immutable array defining the indices of a Series of DataFrame"
   ]
  },
  {
   "cell_type": "code",
   "execution_count": 10,
   "metadata": {},
   "outputs": [
    {
     "name": "stdout",
     "output_type": "stream",
     "text": [
      "Int64Index([0, 1, 2, 3, 5, 8, 13], dtype='int64')\n",
      "7\n",
      "Int64Index([0, 1, 2], dtype='int64')\n"
     ]
    }
   ],
   "source": [
    "# Creating Indexes`\n",
    "fib = pd.Index([0, 1, 2, 3, 5, 8, 13])\n",
    "primes = pd.Index([2, 3, 5, 7, 11])\n",
    "\n",
    "print(fib)\n",
    "print(fib.size)\n",
    "print(fib[0:3])"
   ]
  },
  {
   "cell_type": "code",
   "execution_count": 11,
   "metadata": {},
   "outputs": [
    {
     "name": "stdout",
     "output_type": "stream",
     "text": [
      "Int64Index([2, 3, 5], dtype='int64')\n",
      "Int64Index([0, 1, 2, 3, 5, 7, 8, 11, 13], dtype='int64')\n",
      "Int64Index([0, 1, 7, 8, 11, 13], dtype='int64')\n"
     ]
    }
   ],
   "source": [
    "# Indexes support set operations\n",
    "print(fib & primes)\n",
    "print(fib | primes)\n",
    "print(fib ^ primes)"
   ]
  },
  {
   "cell_type": "markdown",
   "metadata": {},
   "source": [
    "## Pandas Operations"
   ]
  },
  {
   "cell_type": "code",
   "execution_count": 12,
   "metadata": {},
   "outputs": [
    {
     "name": "stdout",
     "output_type": "stream",
     "text": [
      "0    6.00\n",
      "1    5.55\n",
      "2    6.00\n",
      "3    6.00\n",
      "4    4.95\n",
      "5    5.55\n",
      "dtype: float64\n"
     ]
    }
   ],
   "source": [
    "# DataFrame and Series objects support ufuncs\n",
    "\n",
    "grades = pd.Series([4.0, 3.7, 4.0, 4.0, 3.3, 3.7])\n",
    "grades *= 1.5\n",
    "print(grades)"
   ]
  },
  {
   "cell_type": "markdown",
   "metadata": {},
   "source": [
    "## Missing Data Values"
   ]
  },
  {
   "cell_type": "code",
   "execution_count": 13,
   "metadata": {},
   "outputs": [
    {
     "name": "stdout",
     "output_type": "stream",
     "text": [
      "0    4.0\n",
      "1    4.0\n",
      "2    4.0\n",
      "3    NaN\n",
      "4    NaN\n",
      "dtype: float64\n"
     ]
    }
   ],
   "source": [
    "grades = pd.Series([4.0, 4.0, 4.0, None, np.nan])\n",
    "print(grades)  # converts to NaN"
   ]
  },
  {
   "cell_type": "code",
   "execution_count": 16,
   "metadata": {},
   "outputs": [
    {
     "name": "stdout",
     "output_type": "stream",
     "text": [
      "0    False\n",
      "1    False\n",
      "2    False\n",
      "3     True\n",
      "4     True\n",
      "dtype: bool\n",
      "0    4.0\n",
      "1    4.0\n",
      "2    4.0\n",
      "dtype: float64\n",
      "0    4.0\n",
      "1    4.0\n",
      "2    4.0\n",
      "3    4.0\n",
      "4    4.0\n",
      "dtype: float64\n"
     ]
    }
   ],
   "source": [
    "# Detecting null values\n",
    "print(grades.isnull())\n",
    "\n",
    "# Filtering null values\n",
    "print(grades.dropna())\n",
    "print(grades.fillna(4.0))"
   ]
  },
  {
   "cell_type": "code",
   "execution_count": null,
   "metadata": {},
   "outputs": [],
   "source": []
  }
 ],
 "metadata": {
  "kernelspec": {
   "display_name": "Python 3",
   "language": "python",
   "name": "python3"
  },
  "language_info": {
   "codemirror_mode": {
    "name": "ipython",
    "version": 3
   },
   "file_extension": ".py",
   "mimetype": "text/x-python",
   "name": "python",
   "nbconvert_exporter": "python",
   "pygments_lexer": "ipython3",
   "version": "3.8.8"
  }
 },
 "nbformat": 4,
 "nbformat_minor": 4
}
