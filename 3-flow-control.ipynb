{
 "cells": [
  {
   "cell_type": "markdown",
   "metadata": {},
   "source": [
    "# Flow Control in Python"
   ]
  },
  {
   "cell_type": "markdown",
   "metadata": {},
   "source": [
    "## If-Else Statements"
   ]
  },
  {
   "cell_type": "code",
   "execution_count": 1,
   "metadata": {},
   "outputs": [
    {
     "name": "stdout",
     "output_type": "stream",
     "text": [
      "Yay!\n",
      "Woo!\n",
      "Aw Yea!\n"
     ]
    }
   ],
   "source": [
    "happy = True\n",
    "if happy:\n",
    "    print(\"Yay!\")\n",
    "    \n",
    "if happy:\n",
    "    print(\"Woo!\")\n",
    "else:\n",
    "    print(\"Boo!\")\n",
    "\n",
    "sunny = True\n",
    "if happy and sunny:\n",
    "    print(\"Aw Yea!\")\n",
    "elif happy:\n",
    "    print(\"Woo Hoo!\")\n",
    "else:\n",
    "    print(\"Boo Hoo!\")"
   ]
  },
  {
   "cell_type": "markdown",
   "metadata": {},
   "source": [
    "## For Loops"
   ]
  },
  {
   "cell_type": "code",
   "execution_count": 3,
   "metadata": {},
   "outputs": [
    {
     "name": "stdout",
     "output_type": "stream",
     "text": [
      "Cheese\n",
      "Pepperoni\n",
      "BBQ Chicken\n",
      "Hawaiian\n",
      "Veggie\n",
      "5, 4, 3, 2, 1, Liftoff!\n"
     ]
    }
   ],
   "source": [
    "toppings = [\"Cheese\", \"Pepperoni\", \"BBQ Chicken\", \"Hawaiian\", \"Veggie\"]\n",
    "for topping in toppings:\n",
    "    print(topping)\n",
    "    \n",
    "for i in range(5, 0, -1):\n",
    "    print(f\"{i}, \", end='')\n",
    "else:\n",
    "    print(\"Liftoff!\") # do this when loop is over"
   ]
  },
  {
   "cell_type": "markdown",
   "metadata": {},
   "source": [
    "## While Loops"
   ]
  },
  {
   "cell_type": "code",
   "execution_count": 5,
   "metadata": {},
   "outputs": [
    {
     "name": "stdout",
     "output_type": "stream",
     "text": [
      "You can't drive\n",
      "You can't drive\n",
      "You can't drive\n",
      "You can't drive\n",
      "You can't drive\n",
      "You can't drive\n",
      "You can't drive\n",
      "You can't drive\n",
      "You can drive\n",
      "1 sheep\n",
      "2 sheep\n",
      "3 sheep\n",
      "4 sheep\n",
      "5 sheep\n",
      "Zzz...\n"
     ]
    }
   ],
   "source": [
    "age = 10\n",
    "while age < 18:\n",
    "    print(\"You can't drive\")\n",
    "    age += 1\n",
    "else:\n",
    "    print(\"You can drive\")\n",
    "    \n",
    "# Breaking from loops\n",
    "sheep = 0\n",
    "while sheep < 10:\n",
    "    sheep += 1\n",
    "    print(f\"{sheep} sheep\")\n",
    "    \n",
    "    if (sheep == 5):\n",
    "        print(\"Zzz...\")\n",
    "        break\n",
    "else:\n",
    "    print(\"Curse this jet lag!\") # doesn't execute if broken out"
   ]
  },
  {
   "cell_type": "markdown",
   "metadata": {},
   "source": [
    "## Break and Continue"
   ]
  },
  {
   "cell_type": "code",
   "execution_count": 9,
   "metadata": {},
   "outputs": [
    {
     "name": "stdout",
     "output_type": "stream",
     "text": [
      "0\n",
      "1\n",
      "2\n",
      "3\n",
      "5\n",
      "6\n",
      "7\n",
      "8\n",
      "9\n",
      "10\n",
      "11\n",
      "12\n",
      "15\n",
      "16\n",
      "17\n",
      "18\n",
      "19\n",
      "20\n",
      "21\n",
      "22\n",
      "23\n",
      "25\n"
     ]
    }
   ],
   "source": [
    "for i in range(100):\n",
    "    if i % 10 == 4 or i == 13:\n",
    "        continue # skip this iteration\n",
    "    \n",
    "    print(i)\n",
    "    if (i >= 25):\n",
    "        break"
   ]
  },
  {
   "cell_type": "markdown",
   "metadata": {},
   "source": [
    "## Pass"
   ]
  },
  {
   "cell_type": "code",
   "execution_count": 10,
   "metadata": {},
   "outputs": [],
   "source": [
    "for i in range(10):\n",
    "    pass # let me just get a snack"
   ]
  },
  {
   "cell_type": "code",
   "execution_count": null,
   "metadata": {},
   "outputs": [],
   "source": []
  }
 ],
 "metadata": {
  "kernelspec": {
   "display_name": "Python 3",
   "language": "python",
   "name": "python3"
  },
  "language_info": {
   "codemirror_mode": {
    "name": "ipython",
    "version": 3
   },
   "file_extension": ".py",
   "mimetype": "text/x-python",
   "name": "python",
   "nbconvert_exporter": "python",
   "pygments_lexer": "ipython3",
   "version": "3.8.8"
  }
 },
 "nbformat": 4,
 "nbformat_minor": 4
}
