{
 "cells": [
  {
   "cell_type": "markdown",
   "metadata": {},
   "source": [
    "# Files in Python"
   ]
  },
  {
   "cell_type": "markdown",
   "metadata": {},
   "source": [
    "## Basic File I/O"
   ]
  },
  {
   "cell_type": "markdown",
   "metadata": {},
   "source": [
    "Reading Files"
   ]
  },
  {
   "cell_type": "code",
   "execution_count": 1,
   "metadata": {},
   "outputs": [
    {
     "name": "stdout",
     "output_type": "stream",
     "text": [
      "Never gonna give you up, never gonna let you down\n",
      "Never gonna run around and desert you\n",
      "Never gonna make you cry, never gonna say goodbye\n",
      "Never gonna tell a lie and hurt you\n"
     ]
    }
   ],
   "source": [
    "file = open(\"lyrics.txt\")\n",
    "# file = open(\"lyrics.txt\", 'r')  # defaults to read mode\n",
    "\n",
    "lines = file.readlines()\n",
    "for i in range(8, 12):\n",
    "    print(lines[i].strip())\n",
    "\n",
    "file.close() # close after use"
   ]
  },
  {
   "cell_type": "markdown",
   "metadata": {},
   "source": [
    "Exception Handling"
   ]
  },
  {
   "cell_type": "code",
   "execution_count": 2,
   "metadata": {},
   "outputs": [
    {
     "name": "stdout",
     "output_type": "stream",
     "text": [
      "File could not be read\n"
     ]
    }
   ],
   "source": [
    "try:\n",
    "    file1 = open(\"notafile.txt\")\n",
    "    print(file1.read())\n",
    "except:\n",
    "    print(\"File could not be read\")\n",
    "finally:\n",
    "    file.close()"
   ]
  },
  {
   "cell_type": "markdown",
   "metadata": {},
   "source": [
    "Auto-Closing"
   ]
  },
  {
   "cell_type": "code",
   "execution_count": 3,
   "metadata": {},
   "outputs": [
    {
     "name": "stdout",
     "output_type": "stream",
     "text": [
      "We're no strangers\n"
     ]
    }
   ],
   "source": [
    "with open(\"lyrics.txt\", 'r') as file:\n",
    "    read_content = file.read()\n",
    "    print(read_content[:18])"
   ]
  },
  {
   "cell_type": "markdown",
   "metadata": {},
   "source": [
    "Writing to files"
   ]
  },
  {
   "cell_type": "code",
   "execution_count": 4,
   "metadata": {},
   "outputs": [],
   "source": [
    "quote = [\"Hello there!\", \"General Kenobi, you are a bold one!\", \"Your move.\", \"Attack, Kenobi!\", \"So uncivilized.\"]\n",
    "\n",
    "with open(\"quote.txt\", 'w') as file2:\n",
    "    for line in quote:\n",
    "        file2.write(line + '\\n')"
   ]
  },
  {
   "cell_type": "markdown",
   "metadata": {},
   "source": [
    "## Directories"
   ]
  },
  {
   "cell_type": "markdown",
   "metadata": {},
   "source": [
    "Navigating Directories"
   ]
  },
  {
   "cell_type": "code",
   "execution_count": 5,
   "metadata": {},
   "outputs": [
    {
     "name": "stdout",
     "output_type": "stream",
     "text": [
      "/sfs/qumulo/qhome/qgt7zm/phys1655/homework\n",
      "['phys1655-exercises', 'HW02-qgt7zm', 'HW01-qgt7zm', 'hw05-qgt7zm', '.ipynb_checkpoints', 'hw04-qgt7zm', 'hw03-qgt7zm']\n",
      "['data_types.ipynb', '.git', 'quote.txt', 'files.ipynb', 'README.md', '.ipynb_checkpoints', 'lyrics.txt', 'flow_control.ipynb']\n"
     ]
    }
   ],
   "source": [
    "import os\n",
    "\n",
    "os.chdir('/home/qgt7zm/phys1655/homework')\n",
    "print(os.getcwd())\n",
    "print(os.listdir())\n",
    "\n",
    "os.chdir('phys1655-exercises')\n",
    "print(os.listdir())"
   ]
  },
  {
   "cell_type": "markdown",
   "metadata": {},
   "source": [
    "Editing Directories"
   ]
  },
  {
   "cell_type": "code",
   "execution_count": 6,
   "metadata": {},
   "outputs": [
    {
     "name": "stdout",
     "output_type": "stream",
     "text": [
      "['data_types.ipynb', '.git', 'quote.txt', 'files.ipynb', 'README.md', '.ipynb_checkpoints', 'lyrics.txt', 'test', 'flow_control.ipynb']\n",
      "['data_types.ipynb', '.git', 'quote.txt', 'files.ipynb', 'README.md', 'butt', '.ipynb_checkpoints', 'lyrics.txt', 'flow_control.ipynb']\n",
      "['data_types.ipynb', '.git', 'quote.txt', 'files.ipynb', 'README.md', '.ipynb_checkpoints', 'lyrics.txt', 'flow_control.ipynb']\n"
     ]
    }
   ],
   "source": [
    "os.mkdir('test')\n",
    "print(os.listdir())\n",
    "\n",
    "os.rename('test', 'butt')\n",
    "print(os.listdir())\n",
    "\n",
    "os.rmdir('butt')\n",
    "print(os.listdir())"
   ]
  },
  {
   "cell_type": "markdown",
   "metadata": {},
   "source": [
    "## Exceptions"
   ]
  },
  {
   "cell_type": "markdown",
   "metadata": {},
   "source": [
    "Handling Exceptions"
   ]
  },
  {
   "cell_type": "code",
   "execution_count": 7,
   "metadata": {},
   "outputs": [
    {
     "name": "stdin",
     "output_type": "stream",
     "text": [
      "Enter a number:  16\n",
      "Enter another number:  6\n"
     ]
    },
    {
     "name": "stdout",
     "output_type": "stream",
     "text": [
      "16 / 6 = 2.6666666666666665\n",
      "Thanks, try again next week!\n"
     ]
    }
   ],
   "source": [
    "try:\n",
    "    num1 = int(input(\"Enter a number: \"))\n",
    "    num2 = int(input(\"Enter another number: \"))\n",
    "    num3 = num1 / num2\n",
    "except ValueError:\n",
    "    print(\"You did not enter a number\")\n",
    "except ZeroDivisionError:\n",
    "    print(\"Division by zero\")\n",
    "else:\n",
    "    print(f\"{num1} / {num2} = {num3}\")  # runs if no exceptions\n",
    "finally:\n",
    "    print(\"Thanks, try again next week!\")  # runs no matter what"
   ]
  },
  {
   "cell_type": "markdown",
   "metadata": {},
   "source": [
    "Custom Exceptions"
   ]
  },
  {
   "cell_type": "code",
   "execution_count": 8,
   "metadata": {},
   "outputs": [
    {
     "name": "stdin",
     "output_type": "stream",
     "text": [
      "Are you smart?  no\n"
     ]
    },
    {
     "name": "stdout",
     "output_type": "stream",
     "text": [
      "You are stupid\n"
     ]
    }
   ],
   "source": [
    "class StupidException(Exception):\n",
    "    pass\n",
    "\n",
    "smart = input(\"Are you smart? \").lower()\n",
    "try:\n",
    "    if smart == 'y' or smart == 'yes':\n",
    "        print(\"You are smart\")\n",
    "    else:\n",
    "        raise StupidException\n",
    "except:\n",
    "    print(\"You are stupid\")"
   ]
  },
  {
   "cell_type": "code",
   "execution_count": null,
   "metadata": {},
   "outputs": [],
   "source": []
  }
 ],
 "metadata": {
  "kernelspec": {
   "display_name": "Python 3",
   "language": "python",
   "name": "python3"
  },
  "language_info": {
   "codemirror_mode": {
    "name": "ipython",
    "version": 3
   },
   "file_extension": ".py",
   "mimetype": "text/x-python",
   "name": "python",
   "nbconvert_exporter": "python",
   "pygments_lexer": "ipython3",
   "version": "3.8.8"
  }
 },
 "nbformat": 4,
 "nbformat_minor": 4
}
