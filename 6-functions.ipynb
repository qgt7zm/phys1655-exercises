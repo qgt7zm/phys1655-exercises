{
 "cells": [
  {
   "cell_type": "markdown",
   "metadata": {},
   "source": [
    "# Functions in Python"
   ]
  },
  {
   "cell_type": "markdown",
   "metadata": {},
   "source": [
    "## Function Basics"
   ]
  },
  {
   "cell_type": "code",
   "execution_count": 1,
   "metadata": {},
   "outputs": [
    {
     "name": "stdout",
     "output_type": "stream",
     "text": [
      "40 + 2 = 42\n"
     ]
    }
   ],
   "source": [
    "# Creating Functions\n",
    "def add(a, b):\n",
    "    return a + b\n",
    "\n",
    "# Calling Functions\n",
    "print(f\"40 + 2 = {add(40, 2)}\")"
   ]
  },
  {
   "cell_type": "code",
   "execution_count": 2,
   "metadata": {},
   "outputs": [
    {
     "name": "stdout",
     "output_type": "stream",
     "text": [
      "π = 3.1416\n",
      "2π = 6.2832\n"
     ]
    }
   ],
   "source": [
    "# Default Arguments\n",
    "from math import pi as PI\n",
    "\n",
    "def pi_times(n=1):\n",
    "    return PI * n\n",
    "\n",
    "print(f\"π = {pi_times():.4f}\")\n",
    "print(f\"2π = {pi_times(2):.4f}\")"
   ]
  },
  {
   "cell_type": "code",
   "execution_count": 3,
   "metadata": {},
   "outputs": [
    {
     "name": "stdout",
     "output_type": "stream",
     "text": [
      "10 - 8 = 2\n",
      "8 - 10 = -2\n"
     ]
    }
   ],
   "source": [
    "# Keyword Arguments\n",
    "def sub(a, b):  # These are positional args\n",
    "    return a - b\n",
    "\n",
    "print(f\"10 - 8 = {sub(10, 8)}\")\n",
    "print(f\"8 - 10 = {sub(b=10, a=8)}\")"
   ]
  },
  {
   "cell_type": "code",
   "execution_count": 4,
   "metadata": {},
   "outputs": [
    {
     "name": "stdout",
     "output_type": "stream",
     "text": [
      "0\n",
      "1\n",
      "3\n",
      "15\n"
     ]
    }
   ],
   "source": [
    "# Variable-Length Arguments\n",
    "def sum(*vals):\n",
    "    total = 0\n",
    "    for num in vals:\n",
    "        total += num\n",
    "    return total\n",
    "\n",
    "print(sum())\n",
    "print(sum(1))\n",
    "print(sum(1, 2))\n",
    "print(sum(1, 2, 3, 4, 5))"
   ]
  },
  {
   "cell_type": "markdown",
   "metadata": {},
   "source": [
    "## Recursion"
   ]
  },
  {
   "cell_type": "code",
   "execution_count": 5,
   "metadata": {},
   "outputs": [
    {
     "name": "stdout",
     "output_type": "stream",
     "text": [
      "0! = 1\n",
      "1! = 1\n",
      "2! = 2\n",
      "3! = 6\n",
      "4! = 24\n",
      "5! = 120\n",
      "6! = 720\n",
      "7! = 5040\n"
     ]
    }
   ],
   "source": [
    "# A function that calls itself\n",
    "\n",
    "def factorial(n):\n",
    "    if n <= 1:\n",
    "        return 1\n",
    "    else:\n",
    "        return n * factorial(n - 1)\n",
    "\n",
    "for n in range(8):\n",
    "    print(f\"{n}! = {factorial(n)}\")"
   ]
  },
  {
   "cell_type": "markdown",
   "metadata": {},
   "source": [
    "## Lambda Functions"
   ]
  },
  {
   "cell_type": "code",
   "execution_count": 6,
   "metadata": {},
   "outputs": [
    {
     "name": "stdout",
     "output_type": "stream",
     "text": [
      "Hello there!\n"
     ]
    }
   ],
   "source": [
    "# A passable and callable function object\n",
    "greet = lambda : print(\"Hello there!\")\n",
    "greet()"
   ]
  },
  {
   "cell_type": "code",
   "execution_count": 7,
   "metadata": {},
   "outputs": [
    {
     "name": "stdout",
     "output_type": "stream",
     "text": [
      "General Kenobi, you are a bold one!\n"
     ]
    }
   ],
   "source": [
    "# A lambda with an argument\n",
    "reply = lambda name : print(f\"{name}, you are a bold one!\")\n",
    "reply('General Kenobi')"
   ]
  },
  {
   "cell_type": "markdown",
   "metadata": {},
   "source": [
    "## Variable Scopes"
   ]
  },
  {
   "cell_type": "code",
   "execution_count": 8,
   "metadata": {},
   "outputs": [
    {
     "ename": "NameError",
     "evalue": "name 'local_name' is not defined",
     "output_type": "error",
     "traceback": [
      "\u001b[0;31m---------------------------------------------------------------------------\u001b[0m",
      "\u001b[0;31mNameError\u001b[0m                                 Traceback (most recent call last)",
      "\u001b[0;32m<ipython-input-8-2691150cb678>\u001b[0m in \u001b[0;36m<module>\u001b[0;34m\u001b[0m\n\u001b[1;32m      3\u001b[0m     \u001b[0mprint\u001b[0m\u001b[0;34m(\u001b[0m\u001b[0;34mf\"My name is {local_name}\"\u001b[0m\u001b[0;34m)\u001b[0m\u001b[0;34m\u001b[0m\u001b[0;34m\u001b[0m\u001b[0m\n\u001b[1;32m      4\u001b[0m \u001b[0;34m\u001b[0m\u001b[0m\n\u001b[0;32m----> 5\u001b[0;31m \u001b[0mprint\u001b[0m\u001b[0;34m(\u001b[0m\u001b[0;34mf\"My name is {local_name}\"\u001b[0m\u001b[0;34m)\u001b[0m  \u001b[0;31m# cannot access local variable outside its scope\u001b[0m\u001b[0;34m\u001b[0m\u001b[0;34m\u001b[0m\u001b[0m\n\u001b[0m",
      "\u001b[0;31mNameError\u001b[0m: name 'local_name' is not defined"
     ]
    }
   ],
   "source": [
    "def print_name():\n",
    "    local_name = 'General Kenobi'\n",
    "    print(f\"My name is {local_name}\")\n",
    "\n",
    "print(f\"My name is {local_name}\")  # cannot access local variable outside its scope"
   ]
  },
  {
   "cell_type": "code",
   "execution_count": 9,
   "metadata": {},
   "outputs": [
    {
     "name": "stdout",
     "output_type": "stream",
     "text": [
      "I am 64 years old.\n"
     ]
    }
   ],
   "source": [
    "global_age = 129\n",
    "\n",
    "def print_age():\n",
    "    global global_age  # allows modifying global variable outside scope\n",
    "    global_age //= 2\n",
    "    \n",
    "    print(f\"I am {global_age} years old.\")  # can access global variable inside local scope\n",
    "\n",
    "print_age()"
   ]
  },
  {
   "cell_type": "code",
   "execution_count": 10,
   "metadata": {},
   "outputs": [
    {
     "name": "stdout",
     "output_type": "stream",
     "text": [
      "Inner message: Hello There!\n",
      "Outer message: Hello There!\n"
     ]
    }
   ],
   "source": [
    "def outer_func():\n",
    "    message = 'Hello!'\n",
    "\n",
    "    def inner_func():\n",
    "        nonlocal message  # allows modifying nonlocal variable outside scope\n",
    "\n",
    "        message = 'Hello There!'\n",
    "        print(f\"Inner message: {message}\")\n",
    "\n",
    "    inner_func()\n",
    "    print(f\"Outer message: {message}\")\n",
    "\n",
    "outer_func()"
   ]
  },
  {
   "cell_type": "markdown",
   "metadata": {},
   "source": [
    "## Modules and Packages"
   ]
  },
  {
   "cell_type": "code",
   "execution_count": 11,
   "metadata": {},
   "outputs": [
    {
     "name": "stdout",
     "output_type": "stream",
     "text": [
      "1 + 2 = 3\n"
     ]
    }
   ],
   "source": [
    "import lib.engrmath as emath  # alias\n",
    "\n",
    "print(f\"1 + 2 = {emath.add(1, 2)}\")"
   ]
  },
  {
   "cell_type": "code",
   "execution_count": 12,
   "metadata": {},
   "outputs": [
    {
     "name": "stdout",
     "output_type": "stream",
     "text": [
      "π ≈ 3\n",
      "e ≈ 2\n"
     ]
    }
   ],
   "source": [
    "# Selective Importing\n",
    "\n",
    "from lib.engrmath import pi as PI\n",
    "from lib.engrmath import e as E\n",
    "\n",
    "print(f\"π ≈ {PI}\")\n",
    "print(f\"e ≈ {E}\")"
   ]
  },
  {
   "cell_type": "code",
   "execution_count": 13,
   "metadata": {},
   "outputs": [
    {
     "name": "stdout",
     "output_type": "stream",
     "text": [
      "['__builtins__', '__cached__', '__doc__', '__file__', '__loader__', '__name__', '__package__', '__spec__', 'add', 'cos', 'div', 'e', 'g', 'mod', 'mul', 'pi', 'sin', 'sub', 'tan']\n"
     ]
    }
   ],
   "source": [
    "# Wildcard Importing (may clutter up namespace)\n",
    "# from engrmath import *\n",
    "print(dir(emath))"
   ]
  },
  {
   "cell_type": "code",
   "execution_count": null,
   "metadata": {},
   "outputs": [],
   "source": []
  }
 ],
 "metadata": {
  "kernelspec": {
   "display_name": "Python 3",
   "language": "python",
   "name": "python3"
  },
  "language_info": {
   "codemirror_mode": {
    "name": "ipython",
    "version": 3
   },
   "file_extension": ".py",
   "mimetype": "text/x-python",
   "name": "python",
   "nbconvert_exporter": "python",
   "pygments_lexer": "ipython3",
   "version": "3.8.8"
  }
 },
 "nbformat": 4,
 "nbformat_minor": 4
}
